{
 "cells": [
  {
   "cell_type": "markdown",
   "id": "fe12c203-e6a6-452c-a655-afb8a03a4ff5",
   "metadata": {},
   "source": [
    "# End of week 1 exercise\n",
    "\n",
    "To demonstrate your familiarity with OpenAI API, and also Ollama, build a tool that takes a technical question,  \n",
    "and responds with an explanation. This is a tool that you will be able to use yourself during the course!"
   ]
  },
  {
   "cell_type": "code",
   "execution_count": 11,
   "id": "c1070317-3ed9-4659-abe3-828943230e03",
   "metadata": {},
   "outputs": [],
   "source": [
    "# imports\n",
    "import os\n",
    "import json\n",
    "import requests\n",
    "from dotenv import load_dotenv\n",
    "from openai import OpenAI\n",
    "from IPython.display import Markdown, display, update_display"
   ]
  },
  {
   "cell_type": "code",
   "execution_count": 12,
   "id": "4a456906-915a-4bfd-bb9d-57e505c5093f",
   "metadata": {},
   "outputs": [],
   "source": [
    "# constants\n",
    "\n",
    "MODEL_GPT = 'gpt-4o-mini'\n",
    "MODEL_LLAMA = 'llama3.2'"
   ]
  },
  {
   "cell_type": "code",
   "execution_count": 13,
   "id": "a8d7923c-5f28-4c30-8556-342d7c8497c1",
   "metadata": {},
   "outputs": [
    {
     "name": "stdout",
     "output_type": "stream",
     "text": [
      "API key looks good so far\n"
     ]
    }
   ],
   "source": [
    "# set up environment\n",
    "\n",
    "load_dotenv(override=True)\n",
    "api_key = os.getenv('OPENAI_API_KEY')\n",
    "\n",
    "if api_key and api_key.startswith('sk-proj-') and len(api_key)>10:\n",
    "    print(\"API key looks good so far\")\n",
    "else:\n",
    "    print(\"There might be a problem with your API key? Please visit the troubleshooting notebook!\")\n",
    "    \n",
    "MODEL = 'gpt-4o-mini'\n",
    "openai = OpenAI()"
   ]
  },
  {
   "cell_type": "code",
   "execution_count": 14,
   "id": "3f0d0137-52b0-47a8-81a8-11a90a010798",
   "metadata": {},
   "outputs": [],
   "source": [
    "# here is the question; type over this to ask something new\n",
    "\n",
    "system_prompt = \"You are an expert developer and professor that wants to explain concepts to a class of young students.\"\n",
    "\n",
    "question = \"\"\"\n",
    "Please explain what this code does and why:\n",
    "yield from {book.get(\"author\") for book in books if book.get(\"author\")}\n",
    "\"\"\""
   ]
  },
  {
   "cell_type": "code",
   "execution_count": 16,
   "id": "5842a4f9-c0b3-4e81-88f6-e0cd371ce949",
   "metadata": {},
   "outputs": [
    {
     "data": {
      "text/markdown": [
       "Certainly! Let's break down the code you've provided step by step to make it easier to understand.\n",
       "\n",
       "### Breakdown of the Code\n",
       "\n",
       "#### 1. **Understanding Yield**\n",
       "- The `yield` keyword is used in Python to define a generator. A generator is a special type of function that allows you to iterate over a sequence of values without storing them all in memory at once. Instead of returning a single value, it can provide a series of values, one at a time, whenever it’s called.\n",
       "\n",
       "#### 2. **The `from` Keyword**\n",
       "- `yield from` is a way to delegate part of your generator’s operation to another iterable (like a list, set, or another generator). When you yield from another iterable, it takes each value from that iterable and yields it to the caller of your generator one at a time.\n",
       "\n",
       "#### 3. **Set Comprehension**\n",
       "- The part `{book.get(\"author\") for book in books if book.get(\"author\")}` is a set comprehension. \n",
       "  - It’s similar to a list comprehension, but it creates a set instead.\n",
       "  - Here’s how it works:\n",
       "    - `for book in books`: This iterates over a collection called `books`, which we can assume is a list of dictionaries.\n",
       "    - `book.get(\"author\")`: This retrieves the value associated with the key `\"author\"` from each `book` dictionary. Using `get` is a safe way to access dictionary keys because if the key doesn’t exist, it returns `None` instead of raising a KeyError.\n",
       "    - `if book.get(\"author\")`: This part checks if the author exists and is not `None` or empty, filtering the books to only include those that have an author.\n",
       "\n",
       "#### 4. **Combining It All Together**\n",
       "Putting it all together, the full expression does the following:\n",
       "- It creates a **set** of unique authors from the list of `books` (i.e., it will not include duplicate authors).\n",
       "- It uses `yield from` to yield each author from this set one at a time.\n",
       "\n",
       "### Why Use This Code?\n",
       "1. **Unique Values**: By using a set, it ensures that you only get unique authors, meaning if multiple books are authored by the same person, they will only appear once in the output.\n",
       "2. **Memory Efficiency**: Generators, like the one this code is part of, allow for memory-efficient processing of data because they don't load everything into memory at once.\n",
       "3. **Readability**: The use of `yield from` along with set comprehension provides a concise and readable way to extract and yield authors.\n",
       "\n",
       "### Example\n",
       "Imagine you have a list of books structured like this:\n",
       "\n",
       "python\n",
       "books = [\n",
       "    {\"title\": \"Book1\", \"author\": \"Author1\"},\n",
       "    {\"title\": \"Book2\", \"author\": \"Author2\"},\n",
       "    {\"title\": \"Book3\", \"author\": \"Author1\"},  # Duplicate author\n",
       "    {\"title\": \"Book4\"},\n",
       "    {\"title\": \"Book5\", \"author\": \"Author3\"}\n",
       "]\n",
       "\n",
       "\n",
       "In this case, the code will yield:\n",
       "- \"Author1\"\n",
       "- \"Author2\"\n",
       "- \"Author3\"\n",
       "\n",
       "And it won’t yield \"Author1\" again for the duplicate entry.\n",
       "\n",
       "### Conclusion\n",
       "This line of code is a powerful combination of Python features that allows for efficient and clear extraction of unique authors from a collection of book entries! If you have any more questions or need further clarification, feel free to ask!"
      ],
      "text/plain": [
       "<IPython.core.display.Markdown object>"
      ]
     },
     "metadata": {},
     "output_type": "display_data"
    }
   ],
   "source": [
    "# Get gpt-4o-mini to answer, with streaming\n",
    "\n",
    "stream = openai.chat.completions.create(\n",
    "    model=MODEL,\n",
    "    messages=[\n",
    "        {\"role\": \"system\", \"content\": system_prompt},\n",
    "        {\"role\": \"user\", \"content\": question}\n",
    "    ],\n",
    "    stream=True\n",
    "    )\n",
    "\n",
    "response = \"\"\n",
    "display_handle = display(Markdown(\"\"), display_id=True)\n",
    "for chunk in stream:\n",
    "    response += chunk.choices[0].delta.content or ''\n",
    "    response = response.replace(\"```\", \"\").replace(\"markdown\", \"\")\n",
    "    update_display(Markdown(response), display_id=display_handle.display_id)\n",
    "\n",
    "    \n",
    "    "
   ]
  },
  {
   "cell_type": "code",
   "execution_count": null,
   "id": "8f7c8ea8-4082-4ad0-8751-3301adcf6538",
   "metadata": {},
   "outputs": [],
   "source": [
    "# Get Llama 3.2 to answer"
   ]
  }
 ],
 "metadata": {
  "kernelspec": {
   "display_name": "Python 3 (ipykernel)",
   "language": "python",
   "name": "python3"
  },
  "language_info": {
   "codemirror_mode": {
    "name": "ipython",
    "version": 3
   },
   "file_extension": ".py",
   "mimetype": "text/x-python",
   "name": "python",
   "nbconvert_exporter": "python",
   "pygments_lexer": "ipython3",
   "version": "3.11.11"
  }
 },
 "nbformat": 4,
 "nbformat_minor": 5
}
