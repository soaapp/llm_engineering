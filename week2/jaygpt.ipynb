{
 "cells": [
  {
   "cell_type": "code",
   "execution_count": 2,
   "id": "9fbfa4d4-a3de-4abe-8f0e-e2e2cf30e045",
   "metadata": {},
   "outputs": [
    {
     "name": "stdout",
     "output_type": "stream",
     "text": [
      "OpenAI API Key exists and begins sk-proj-\n",
      "Anthropic API Key exists and begins sk-ant-\n",
      "Google API Key exists and begins AIzaSyB6\n",
      "* Running on local URL:  http://127.0.0.1:7875\n",
      "\n",
      "To create a public link, set `share=True` in `launch()`.\n"
     ]
    },
    {
     "data": {
      "text/html": [
       "<div><iframe src=\"http://127.0.0.1:7875/\" width=\"100%\" height=\"500\" allow=\"autoplay; camera; microphone; clipboard-read; clipboard-write;\" frameborder=\"0\" allowfullscreen></iframe></div>"
      ],
      "text/plain": [
       "<IPython.core.display.HTML object>"
      ]
     },
     "metadata": {},
     "output_type": "display_data"
    },
    {
     "data": {
      "text/plain": []
     },
     "execution_count": 2,
     "metadata": {},
     "output_type": "execute_result"
    },
    {
     "name": "stdout",
     "output_type": "stream",
     "text": [
      "History is:\n",
      "[]\n",
      "And messages is:\n",
      "[{'role': 'system', 'content': 'You are a helpful assistant and a senior level developer.'}, {'role': 'user', 'content': 'I want to create an application that reads Python code and generates Documentation in the form of Markdown. How should I architect this?'}]\n",
      "History is:\n",
      "[{'role': 'user', 'metadata': None, 'content': 'I want to create an application that reads Python code and generates Documentation in the form of Markdown. How should I architect this?', 'options': None}, {'role': 'assistant', 'metadata': None, 'content': 'Creating an application that reads Python code to generate documentation in Markdown is an interesting project. Here’s a high-level architecture along with some suggestions on how to implement it:\\n\\n### 1. Overview of Architecture\\n\\nYour application can be divided into several components:\\n\\n1. **Code Parser**: This module is responsible for analyzing Python files and extracting relevant information.\\n2. **Documentation Generator**: This module generates Markdown formatted documentation based on the information extracted by the code parser.\\n3. **User Interface (Optional)**: If you want to provide a UI, you could have a command-line interface (CLI) or a web interface.\\n4. **Configuration Manager**: This will handle configuration settings, such as docstring styles (e.g., Google style, NumPy style, etc.) and output paths.\\n5. **Output Handler**: This module will manage outputting the generated Markdown files, either to the filesystem or anywhere you need.\\n\\n### 2. Detailed Component Breakdown\\n\\n**A. Code Parser**\\n\\n- **Libraries**: Use `ast` (Abstract Syntax Tree) to parse and analyze Python source files. You may also consider other libraries like `astroid` (used in pylint) for deeper analysis.\\n- **Functionality**:\\n  - Parse Python files to extract classes, functions, methods, and their docstrings.\\n  - Handle imports to give context to the documentation.\\n  - Optionally support type hints and annotations.\\n\\n**B. Documentation Generator**\\n\\n- **Markdown Templates**: Define Markdown templates for documenting functions, classes, parameters, return values, etc.\\n- **Functionality**:\\n  - Convert extracted docstrings into structured Markdown format.\\n  - Generate summaries for modules, classes, and methods.\\n  - Include sections for example usage if provided in docstrings.\\n\\n**C. User Interface (Optional)**\\n\\n- If you opt for a CLI, you could use `argparse` to handle input arguments (e.g., source file paths, output directories).\\n- If you want a web interface, consider using a lightweight framework like Flask or FastAPI. \\n- Provide options like specifying the style of docstring parsing, such as Google or NumPy, and output formats.\\n\\n**D. Configuration Manager**\\n\\n- Consider using a configuration file (like a JSON or YAML file) to enable users to specify settings globally.\\n- Options such as `include_private` (to include private methods), `output_format`, and `exclude_dirs` can be useful.\\n\\n**E. Output Handler**\\n\\n- Handle writing Markdown files to the designated output folder.\\n- Allow overwriting of files and maybe even offer to create an index file for easy navigation.\\n\\n### 3. Workflow\\n\\n1. **Input**: User feeds Python files or directories into the application.\\n2. **Parsing**: The Code Parser analyzes the code and extracts classes, functions, and their docstrings.\\n3. **Documentation Generation**: The Documentation Generator formats this information into Markdown using templates.\\n4. **Output**: The final Markdown files are written to the output directory specified by the user.\\n\\n### 4. Suggested Technologies\\n\\n- Python version 3.6+ for the latest language features.\\n- `ast` for parsing Python code.\\n- Markdown generation can be done manually using string formatting, or you can use libraries like `Markdown2` or `mistune`.\\n- For testing, you can use `pytest` to ensure the parsing and Markdown formatting works as intended.\\n\\n### 5. Sample Code Snippet\\n\\nHere’s a simple example of how you might start with the code parser using `ast`:\\n\\n```python\\nimport ast\\nimport os\\n\\nclass DocstringParser(ast.NodeVisitor):\\n    def __init__(self):\\n        self.documentation = {}\\n\\n    def visit_FunctionDef(self, node):\\n        docstring = ast.get_docstring(node)\\n        self.documentation[node.name] = {\\n            \"type\": \"function\",\\n            \"docstring\": docstring,\\n            \"arguments\": [arg.arg for arg in node.args.args],\\n        }\\n        self.generic_visit(node)\\n\\n    def visit_ClassDef(self, node):\\n        docstring = ast.get_docstring(node)\\n        self.documentation[node.name] = {\\n            \"type\": \"class\",\\n            \"docstring\": docstring,\\n            \"methods\": [],\\n        }\\n        self.generic_visit(node)\\n\\n    def visit_MethodDef(self, node):\\n        docstring = ast.get_docstring(node)\\n        self.documentation[node.parent].get(\"methods\").append({\\n            \"name\": node.name,\\n            \"docstring\": docstring,\\n        })\\n        self.generic_visit(node)\\n\\ndef parse_python_file(file_path):\\n    with open(file_path, \\'r\\') as file:\\n        node = ast.parse(file.read())\\n    \\n    parser = DocstringParser()\\n    parser.visit(node)\\n    return parser.documentation\\n\\n# Example usage:\\nif __name__ == \\'__main__\\':\\n    docs = parse_python_file(\\'example.py\\')\\n    print(docs)\\n```\\n\\n### Conclusion\\n\\nWith the outlined architecture and ideas, you can build a comprehensive tool that simplifies Python documentation generation into Markdown. Make sure to include error handling and edge cases, such as empty docstrings or files without any documentation, for a more robust application. Good luck with your project!', 'options': None}]\n",
      "And messages is:\n",
      "[{'role': 'system', 'content': 'You are a helpful assistant and a senior level developer.'}, {'role': 'user', 'metadata': None, 'content': 'I want to create an application that reads Python code and generates Documentation in the form of Markdown. How should I architect this?', 'options': None}, {'role': 'assistant', 'metadata': None, 'content': 'Creating an application that reads Python code to generate documentation in Markdown is an interesting project. Here’s a high-level architecture along with some suggestions on how to implement it:\\n\\n### 1. Overview of Architecture\\n\\nYour application can be divided into several components:\\n\\n1. **Code Parser**: This module is responsible for analyzing Python files and extracting relevant information.\\n2. **Documentation Generator**: This module generates Markdown formatted documentation based on the information extracted by the code parser.\\n3. **User Interface (Optional)**: If you want to provide a UI, you could have a command-line interface (CLI) or a web interface.\\n4. **Configuration Manager**: This will handle configuration settings, such as docstring styles (e.g., Google style, NumPy style, etc.) and output paths.\\n5. **Output Handler**: This module will manage outputting the generated Markdown files, either to the filesystem or anywhere you need.\\n\\n### 2. Detailed Component Breakdown\\n\\n**A. Code Parser**\\n\\n- **Libraries**: Use `ast` (Abstract Syntax Tree) to parse and analyze Python source files. You may also consider other libraries like `astroid` (used in pylint) for deeper analysis.\\n- **Functionality**:\\n  - Parse Python files to extract classes, functions, methods, and their docstrings.\\n  - Handle imports to give context to the documentation.\\n  - Optionally support type hints and annotations.\\n\\n**B. Documentation Generator**\\n\\n- **Markdown Templates**: Define Markdown templates for documenting functions, classes, parameters, return values, etc.\\n- **Functionality**:\\n  - Convert extracted docstrings into structured Markdown format.\\n  - Generate summaries for modules, classes, and methods.\\n  - Include sections for example usage if provided in docstrings.\\n\\n**C. User Interface (Optional)**\\n\\n- If you opt for a CLI, you could use `argparse` to handle input arguments (e.g., source file paths, output directories).\\n- If you want a web interface, consider using a lightweight framework like Flask or FastAPI. \\n- Provide options like specifying the style of docstring parsing, such as Google or NumPy, and output formats.\\n\\n**D. Configuration Manager**\\n\\n- Consider using a configuration file (like a JSON or YAML file) to enable users to specify settings globally.\\n- Options such as `include_private` (to include private methods), `output_format`, and `exclude_dirs` can be useful.\\n\\n**E. Output Handler**\\n\\n- Handle writing Markdown files to the designated output folder.\\n- Allow overwriting of files and maybe even offer to create an index file for easy navigation.\\n\\n### 3. Workflow\\n\\n1. **Input**: User feeds Python files or directories into the application.\\n2. **Parsing**: The Code Parser analyzes the code and extracts classes, functions, and their docstrings.\\n3. **Documentation Generation**: The Documentation Generator formats this information into Markdown using templates.\\n4. **Output**: The final Markdown files are written to the output directory specified by the user.\\n\\n### 4. Suggested Technologies\\n\\n- Python version 3.6+ for the latest language features.\\n- `ast` for parsing Python code.\\n- Markdown generation can be done manually using string formatting, or you can use libraries like `Markdown2` or `mistune`.\\n- For testing, you can use `pytest` to ensure the parsing and Markdown formatting works as intended.\\n\\n### 5. Sample Code Snippet\\n\\nHere’s a simple example of how you might start with the code parser using `ast`:\\n\\n```python\\nimport ast\\nimport os\\n\\nclass DocstringParser(ast.NodeVisitor):\\n    def __init__(self):\\n        self.documentation = {}\\n\\n    def visit_FunctionDef(self, node):\\n        docstring = ast.get_docstring(node)\\n        self.documentation[node.name] = {\\n            \"type\": \"function\",\\n            \"docstring\": docstring,\\n            \"arguments\": [arg.arg for arg in node.args.args],\\n        }\\n        self.generic_visit(node)\\n\\n    def visit_ClassDef(self, node):\\n        docstring = ast.get_docstring(node)\\n        self.documentation[node.name] = {\\n            \"type\": \"class\",\\n            \"docstring\": docstring,\\n            \"methods\": [],\\n        }\\n        self.generic_visit(node)\\n\\n    def visit_MethodDef(self, node):\\n        docstring = ast.get_docstring(node)\\n        self.documentation[node.parent].get(\"methods\").append({\\n            \"name\": node.name,\\n            \"docstring\": docstring,\\n        })\\n        self.generic_visit(node)\\n\\ndef parse_python_file(file_path):\\n    with open(file_path, \\'r\\') as file:\\n        node = ast.parse(file.read())\\n    \\n    parser = DocstringParser()\\n    parser.visit(node)\\n    return parser.documentation\\n\\n# Example usage:\\nif __name__ == \\'__main__\\':\\n    docs = parse_python_file(\\'example.py\\')\\n    print(docs)\\n```\\n\\n### Conclusion\\n\\nWith the outlined architecture and ideas, you can build a comprehensive tool that simplifies Python documentation generation into Markdown. Make sure to include error handling and edge cases, such as empty docstrings or files without any documentation, for a more robust application. Good luck with your project!', 'options': None}, {'role': 'user', 'content': 'What if I wanted to read the code from a repository on Github?'}]\n"
     ]
    }
   ],
   "source": [
    "# imports\n",
    "\n",
    "import os\n",
    "from dotenv import load_dotenv\n",
    "from openai import OpenAI\n",
    "import gradio as gr\n",
    "\n",
    "\n",
    "# Load environment variables in a file called .env\n",
    "# Print the key prefixes to help with any debugging\n",
    "\n",
    "load_dotenv()\n",
    "openai_api_key = os.getenv('OPENAI_API_KEY')\n",
    "anthropic_api_key = os.getenv('ANTHROPIC_API_KEY')\n",
    "google_api_key = os.getenv('GOOGLE_API_KEY')\n",
    "\n",
    "if openai_api_key:\n",
    "    print(f\"OpenAI API Key exists and begins {openai_api_key[:8]}\")\n",
    "else:\n",
    "    print(\"OpenAI API Key not set\")\n",
    "    \n",
    "if anthropic_api_key:\n",
    "    print(f\"Anthropic API Key exists and begins {anthropic_api_key[:7]}\")\n",
    "else:\n",
    "    print(\"Anthropic API Key not set\")\n",
    "\n",
    "if google_api_key:\n",
    "    print(f\"Google API Key exists and begins {google_api_key[:8]}\")\n",
    "else:\n",
    "    print(\"Google API Key not set\")\n",
    "\n",
    "\n",
    "# Initialize\n",
    "\n",
    "openai = OpenAI()\n",
    "MODEL = 'gpt-4o-mini'\n",
    "\n",
    "system_message = \"You are a helpful assistant and a senior level developer.\"\n",
    "\n",
    "\n",
    "def chat(message, history):\n",
    "    messages = [{\"role\": \"system\", \"content\": system_message}] + history + [{\"role\": \"user\", \"content\": message}]\n",
    "\n",
    "    print(\"History is:\")\n",
    "    print(history)\n",
    "    print(\"And messages is:\")\n",
    "    print(messages)\n",
    "\n",
    "    stream = openai.chat.completions.create(model=MODEL, messages=messages, stream=True)\n",
    "\n",
    "    response = \"\"\n",
    "    for chunk in stream:\n",
    "        response += chunk.choices[0].delta.content or ''\n",
    "        yield response\n",
    "\n",
    "\n",
    "gr.ChatInterface(fn=chat, type=\"messages\").launch()"
   ]
  },
  {
   "cell_type": "code",
   "execution_count": null,
   "id": "e100138b-cfb0-48ca-a21d-5104724e8796",
   "metadata": {},
   "outputs": [],
   "source": []
  }
 ],
 "metadata": {
  "kernelspec": {
   "display_name": "Python 3 (ipykernel)",
   "language": "python",
   "name": "python3"
  },
  "language_info": {
   "codemirror_mode": {
    "name": "ipython",
    "version": 3
   },
   "file_extension": ".py",
   "mimetype": "text/x-python",
   "name": "python",
   "nbconvert_exporter": "python",
   "pygments_lexer": "ipython3",
   "version": "3.11.11"
  }
 },
 "nbformat": 4,
 "nbformat_minor": 5
}
